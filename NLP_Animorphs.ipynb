{
 "cells": [
  {
   "cell_type": "code",
   "execution_count": null,
   "id": "5118a585-3718-42ca-b29b-db682b0f7757",
   "metadata": {
    "scrolled": true,
    "tags": []
   },
   "outputs": [],
   "source": [
    "!pip3 install textract\n",
    "import textract\n",
    "\n",
    "!pip3 install -U spacy\n",
    "import spacy\n",
    "from spacy import displacy\n",
    "from spacy.matcher import Matcher\n",
    "\n",
    "nlp = spacy.load('en_core_web_md')"
   ]
  },
  {
   "cell_type": "code",
   "execution_count": null,
   "id": "13581c1a-437e-4d5a-a43c-037f82bc355a",
   "metadata": {},
   "outputs": [],
   "source": [
    "# use textract to read the pdf\n",
    "text = textract.process(\"/Users/ioktwieaetiq/Downloads/Animorphs/Ani 01.0 - The Invasion - K. A. Applegate.pdf\")\n",
    "\n",
    "\n",
    "# but it stores it as bytes, so decode the bytes format into string for nlp processing\n",
    "realbooktxt = text.decode(\"utf-8\")"
   ]
  },
  {
   "cell_type": "code",
   "execution_count": null,
   "id": "9fb6339c-06bc-49c7-bf01-fc95cee432d5",
   "metadata": {},
   "outputs": [],
   "source": [
    "print(type(text))\n",
    "print(type(realbooktxt))"
   ]
  },
  {
   "cell_type": "code",
   "execution_count": null,
   "id": "d6fb5a2a-fc88-4e07-97b1-6abc4168e25b",
   "metadata": {},
   "outputs": [],
   "source": [
    "# feed hungry nlp to process all the text!\n",
    "doc = nlp(booktxt)"
   ]
  },
  {
   "cell_type": "code",
   "execution_count": null,
   "id": "1f3b32e0-ec6d-4cce-b931-d4563027ca16",
   "metadata": {},
   "outputs": [],
   "source": [
    "# decode the bytes format from textract into regular text\n",
    "booktxt = text.decode(\"utf-8\")"
   ]
  },
  {
   "cell_type": "code",
   "execution_count": null,
   "id": "4613c37d-8855-4e0f-9446-f0be156604b0",
   "metadata": {
    "scrolled": true,
    "tags": []
   },
   "outputs": [],
   "source": [
    "doc"
   ]
  },
  {
   "cell_type": "code",
   "execution_count": null,
   "id": "26035aa8-dc44-4cb5-bd8a-51c8e4542792",
   "metadata": {
    "scrolled": true,
    "tags": []
   },
   "outputs": [],
   "source": [
    "displacy.render(doc, style=\"ent\")"
   ]
  },
  {
   "cell_type": "code",
   "execution_count": null,
   "id": "c5299aaa-9865-4bd7-9e43-6b599449fac1",
   "metadata": {},
   "outputs": [],
   "source": [
    "matcher = Matcher(nlp.vocab)"
   ]
  },
  {
   "cell_type": "code",
   "execution_count": null,
   "id": "d9ff3bee-d1db-4639-b116-f063607d76aa",
   "metadata": {
    "scrolled": true,
    "tags": []
   },
   "outputs": [],
   "source": [
    "# just trying to get all character names\n",
    "pattern = [{\"ENT_TYPE\": \"PERSON\"}] \n",
    "matcher.add(\"CharNames\", [pattern])\n",
    "\n",
    "# trying to get all their head speak between < >\n",
    "# pattern2 =   [{\"TEXT\": \"<\"}, {\"OP\": \"*\"}, {\"TEXT\": \">\"}]\n",
    "# matcher.add(\"HeadSpeak\", [pattern2])\n",
    "charNames = matcher(doc)\n",
    "charNames"
   ]
  },
  {
   "cell_type": "code",
   "execution_count": null,
   "id": "627cdc76-2539-4ea6-9504-dd8b6393bdda",
   "metadata": {},
   "outputs": [],
   "source": [
    "characters = []\n",
    "headspeak = []\n",
    "\n",
    "for match_id, start, stop in charNames:\n",
    "    string_id = nlp.vocab.strings[match_id]\n",
    "    span = doc[start:stop]\n",
    "    characters.append(span.text)"
   ]
  },
  {
   "cell_type": "code",
   "execution_count": null,
   "id": "0834871b-6cd0-46a6-832f-d90607a403ed",
   "metadata": {
    "scrolled": true,
    "tags": []
   },
   "outputs": [],
   "source": [
    "x = set([i for i in characters])"
   ]
  },
  {
   "cell_type": "code",
   "execution_count": null,
   "id": "04c26dc7-897a-4d24-af89-cd45b843a7fc",
   "metadata": {},
   "outputs": [],
   "source": []
  },
  {
   "cell_type": "code",
   "execution_count": null,
   "id": "fbbdc90f-428a-49cd-a3ee-c99f7ff8f61b",
   "metadata": {},
   "outputs": [],
   "source": []
  }
 ],
 "metadata": {
  "kernelspec": {
   "display_name": "Python 3",
   "language": "python",
   "name": "python3"
  },
  "language_info": {
   "codemirror_mode": {
    "name": "ipython",
    "version": 3
   },
   "file_extension": ".py",
   "mimetype": "text/x-python",
   "name": "python",
   "nbconvert_exporter": "python",
   "pygments_lexer": "ipython3",
   "version": "3.9.5"
  }
 },
 "nbformat": 4,
 "nbformat_minor": 5
}
